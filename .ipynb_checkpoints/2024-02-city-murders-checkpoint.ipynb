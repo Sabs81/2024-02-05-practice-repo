{
 "cells": [
  {
   "cell_type": "code",
   "execution_count": 1,
   "id": "12c7a96b",
   "metadata": {},
   "outputs": [],
   "source": [
    "## murder variables \n",
    "chicago_m = 762\n",
    "la_m = 294\n",
    "nyc_m = 334\n",
    "sanj_m = 47"
   ]
  },
  {
   "cell_type": "code",
   "execution_count": 2,
   "id": "684dff89",
   "metadata": {},
   "outputs": [],
   "source": [
    "## population variables\n",
    "chicago_p = 2_705_000\n",
    "la_p = 3_976_000\n",
    "nyc_p = 8_538_000\n",
    "sanj_p = 1_025_000"
   ]
  },
  {
   "cell_type": "code",
   "execution_count": 10,
   "id": "a85e6d7e",
   "metadata": {},
   "outputs": [],
   "source": [
    "chicago_r = chicago_m / chicago_p * 100_000\n",
    "la_r = la_m / la_p * 100_000\n",
    "nyc_r = nyc_m / nyc_p * 100_000\n",
    "sanj_r = sanj_m / sanj_p * 100_000"
   ]
  },
  {
   "cell_type": "code",
   "execution_count": 13,
   "id": "66a863f2",
   "metadata": {},
   "outputs": [
    {
     "data": {
      "text/plain": [
       "28.170055452865068"
      ]
     },
     "execution_count": 13,
     "metadata": {},
     "output_type": "execute_result"
    }
   ],
   "source": [
    "chicago_r"
   ]
  },
  {
   "cell_type": "code",
   "execution_count": 14,
   "id": "30ed175a",
   "metadata": {},
   "outputs": [
    {
     "data": {
      "text/plain": [
       "7.394366197183098"
      ]
     },
     "execution_count": 14,
     "metadata": {},
     "output_type": "execute_result"
    }
   ],
   "source": [
    "la_r"
   ]
  },
  {
   "cell_type": "code",
   "execution_count": 15,
   "id": "fb8c06f5",
   "metadata": {},
   "outputs": [
    {
     "data": {
      "text/plain": [
       "3.911923167018037"
      ]
     },
     "execution_count": 15,
     "metadata": {},
     "output_type": "execute_result"
    }
   ],
   "source": [
    "nyc_r"
   ]
  },
  {
   "cell_type": "code",
   "execution_count": 16,
   "id": "7fd78f6e",
   "metadata": {},
   "outputs": [
    {
     "data": {
      "text/plain": [
       "4.585365853658536"
      ]
     },
     "execution_count": 16,
     "metadata": {},
     "output_type": "execute_result"
    }
   ],
   "source": [
    "sanj_r"
   ]
  },
  {
   "cell_type": "code",
   "execution_count": 18,
   "id": "1c35c63b",
   "metadata": {},
   "outputs": [
    {
     "name": "stdout",
     "output_type": "stream",
     "text": [
      "New York city has the lowest murder rate 3.911923167018037 and chicago has the highest rate at 28.170055452865068 \n"
     ]
    }
   ],
   "source": [
    "print (f\"New York city has the lowest murder rate {nyc_r} and chicago has the highest rate at {chicago_r} \")"
   ]
  },
  {
   "cell_type": "code",
   "execution_count": null,
   "id": "edd81ff9",
   "metadata": {},
   "outputs": [],
   "source": []
  }
 ],
 "metadata": {
  "kernelspec": {
   "display_name": "Python 3 (ipykernel)",
   "language": "python",
   "name": "python3"
  },
  "language_info": {
   "codemirror_mode": {
    "name": "ipython",
    "version": 3
   },
   "file_extension": ".py",
   "mimetype": "text/x-python",
   "name": "python",
   "nbconvert_exporter": "python",
   "pygments_lexer": "ipython3",
   "version": "3.11.5"
  }
 },
 "nbformat": 4,
 "nbformat_minor": 5
}
